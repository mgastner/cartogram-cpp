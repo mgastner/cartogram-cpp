{
 "cells": [
  {
   "cell_type": "code",
   "execution_count": 113,
   "id": "26d36255",
   "metadata": {},
   "outputs": [],
   "source": [
    "import pandas as pd\n",
    "import numpy as np\n",
    "from geojson import Polygon, Feature, FeatureCollection\n",
    "import csv"
   ]
  },
  {
   "cell_type": "code",
   "execution_count": 116,
   "id": "d0f7028d",
   "metadata": {},
   "outputs": [
    {
     "data": {
      "text/html": [
       "<div>\n",
       "<style scoped>\n",
       "    .dataframe tbody tr th:only-of-type {\n",
       "        vertical-align: middle;\n",
       "    }\n",
       "\n",
       "    .dataframe tbody tr th {\n",
       "        vertical-align: top;\n",
       "    }\n",
       "\n",
       "    .dataframe thead th {\n",
       "        text-align: right;\n",
       "    }\n",
       "</style>\n",
       "<table border=\"1\" class=\"dataframe\">\n",
       "  <thead>\n",
       "    <tr style=\"text-align: right;\">\n",
       "      <th></th>\n",
       "      <th>7 Oct to 10 Oct (5)</th>\n",
       "      <th>11 Oct to 17 Oct (7)</th>\n",
       "      <th>18 Oct to 24 Oct (7)</th>\n",
       "      <th>25 Oct to 31 Oct (7)</th>\n",
       "      <th>1 Nov to 3 Nov (3)</th>\n",
       "    </tr>\n",
       "  </thead>\n",
       "  <tbody>\n",
       "    <tr>\n",
       "      <th>0-11 years old (1)</th>\n",
       "      <td>719</td>\n",
       "      <td>1164</td>\n",
       "      <td>1344</td>\n",
       "      <td>1710</td>\n",
       "      <td>795</td>\n",
       "    </tr>\n",
       "    <tr>\n",
       "      <th>12-19 years old (1)</th>\n",
       "      <td>401</td>\n",
       "      <td>591</td>\n",
       "      <td>743</td>\n",
       "      <td>841</td>\n",
       "      <td>344</td>\n",
       "    </tr>\n",
       "    <tr>\n",
       "      <th>20-39 years old (2)</th>\n",
       "      <td>3450</td>\n",
       "      <td>6040</td>\n",
       "      <td>7309</td>\n",
       "      <td>8376</td>\n",
       "      <td>3193</td>\n",
       "    </tr>\n",
       "    <tr>\n",
       "      <th>40-59 years old (2)</th>\n",
       "      <td>3646</td>\n",
       "      <td>6279</td>\n",
       "      <td>7140</td>\n",
       "      <td>7861</td>\n",
       "      <td>2952</td>\n",
       "    </tr>\n",
       "    <tr>\n",
       "      <th>60-69 years old (1)</th>\n",
       "      <td>1402</td>\n",
       "      <td>2101</td>\n",
       "      <td>2146</td>\n",
       "      <td>2164</td>\n",
       "      <td>835</td>\n",
       "    </tr>\n",
       "    <tr>\n",
       "      <th>70-100 years old (3)</th>\n",
       "      <td>1035</td>\n",
       "      <td>1572</td>\n",
       "      <td>1514</td>\n",
       "      <td>1570</td>\n",
       "      <td>645</td>\n",
       "    </tr>\n",
       "  </tbody>\n",
       "</table>\n",
       "</div>"
      ],
      "text/plain": [
       "                      7 Oct to 10 Oct (5)  11 Oct to 17 Oct (7)  \\\n",
       "0-11 years old (1)                    719                  1164   \n",
       "12-19 years old (1)                   401                   591   \n",
       "20-39 years old (2)                  3450                  6040   \n",
       "40-59 years old (2)                  3646                  6279   \n",
       "60-69 years old (1)                  1402                  2101   \n",
       "70-100 years old (3)                 1035                  1572   \n",
       "\n",
       "                      18 Oct to 24 Oct (7)  25 Oct to 31 Oct (7)  \\\n",
       "0-11 years old (1)                    1344                  1710   \n",
       "12-19 years old (1)                    743                   841   \n",
       "20-39 years old (2)                   7309                  8376   \n",
       "40-59 years old (2)                   7140                  7861   \n",
       "60-69 years old (1)                   2146                  2164   \n",
       "70-100 years old (3)                  1514                  1570   \n",
       "\n",
       "                      1 Nov to 3 Nov (3)  \n",
       "0-11 years old (1)                   795  \n",
       "12-19 years old (1)                  344  \n",
       "20-39 years old (2)                 3193  \n",
       "40-59 years old (2)                 2952  \n",
       "60-69 years old (1)                  835  \n",
       "70-100 years old (3)                 645  "
      ]
     },
     "execution_count": 116,
     "metadata": {},
     "output_type": "execute_result"
    }
   ],
   "source": [
    "data = pd.read_csv(\"community_cases.csv\", index_col = 0)\n",
    "data"
   ]
  },
  {
   "cell_type": "code",
   "execution_count": 117,
   "id": "a3a095b6",
   "metadata": {},
   "outputs": [],
   "source": [
    "data = data.rename({\"7 Oct to 10 Oct (5)\" : \"7oct_10oct(5) 50\",\n",
    "            \"11 Oct to 17 Oct (7)\" : \"11oct_17oct(7) 70\",\n",
    "            \"18 Oct to 24 Oct (7)\" : \"18oct_24oct(7) 70\",\n",
    "            \"25 Oct to 31 Oct (7)\" : \"25oct_31oct(7) 70\",\n",
    "            \"1 Nov to 3 Nov (3)\" : \"1nov_3nov(3) 30\"\n",
    "            }, axis = \"columns\")"
   ]
  },
  {
   "cell_type": "code",
   "execution_count": 118,
   "id": "fe999a8b",
   "metadata": {},
   "outputs": [
    {
     "data": {
      "text/html": [
       "<div>\n",
       "<style scoped>\n",
       "    .dataframe tbody tr th:only-of-type {\n",
       "        vertical-align: middle;\n",
       "    }\n",
       "\n",
       "    .dataframe tbody tr th {\n",
       "        vertical-align: top;\n",
       "    }\n",
       "\n",
       "    .dataframe thead th {\n",
       "        text-align: right;\n",
       "    }\n",
       "</style>\n",
       "<table border=\"1\" class=\"dataframe\">\n",
       "  <thead>\n",
       "    <tr style=\"text-align: right;\">\n",
       "      <th></th>\n",
       "      <th>7oct_10oct(5) 50</th>\n",
       "      <th>11oct_17oct(7) 70</th>\n",
       "      <th>18oct_24oct(7) 70</th>\n",
       "      <th>25oct_31oct(7) 70</th>\n",
       "      <th>1nov_3nov(3) 30</th>\n",
       "    </tr>\n",
       "  </thead>\n",
       "  <tbody>\n",
       "    <tr>\n",
       "      <th>0_11_old(1) 20</th>\n",
       "      <td>719</td>\n",
       "      <td>1164</td>\n",
       "      <td>1344</td>\n",
       "      <td>1710</td>\n",
       "      <td>795</td>\n",
       "    </tr>\n",
       "    <tr>\n",
       "      <th>12_19_old(1) 20</th>\n",
       "      <td>401</td>\n",
       "      <td>591</td>\n",
       "      <td>743</td>\n",
       "      <td>841</td>\n",
       "      <td>344</td>\n",
       "    </tr>\n",
       "    <tr>\n",
       "      <th>20_39_old(2) 40</th>\n",
       "      <td>3450</td>\n",
       "      <td>6040</td>\n",
       "      <td>7309</td>\n",
       "      <td>8376</td>\n",
       "      <td>3193</td>\n",
       "    </tr>\n",
       "    <tr>\n",
       "      <th>40_59_old(2) 40</th>\n",
       "      <td>3646</td>\n",
       "      <td>6279</td>\n",
       "      <td>7140</td>\n",
       "      <td>7861</td>\n",
       "      <td>2952</td>\n",
       "    </tr>\n",
       "    <tr>\n",
       "      <th>60_69_old(1) 20</th>\n",
       "      <td>1402</td>\n",
       "      <td>2101</td>\n",
       "      <td>2146</td>\n",
       "      <td>2164</td>\n",
       "      <td>835</td>\n",
       "    </tr>\n",
       "    <tr>\n",
       "      <th>70_100_old(3) 60</th>\n",
       "      <td>1035</td>\n",
       "      <td>1572</td>\n",
       "      <td>1514</td>\n",
       "      <td>1570</td>\n",
       "      <td>645</td>\n",
       "    </tr>\n",
       "  </tbody>\n",
       "</table>\n",
       "</div>"
      ],
      "text/plain": [
       "                  7oct_10oct(5) 50  11oct_17oct(7) 70  18oct_24oct(7) 70  \\\n",
       "0_11_old(1) 20                 719               1164               1344   \n",
       "12_19_old(1) 20                401                591                743   \n",
       "20_39_old(2) 40               3450               6040               7309   \n",
       "40_59_old(2) 40               3646               6279               7140   \n",
       "60_69_old(1) 20               1402               2101               2146   \n",
       "70_100_old(3) 60              1035               1572               1514   \n",
       "\n",
       "                  25oct_31oct(7) 70  1nov_3nov(3) 30  \n",
       "0_11_old(1) 20                 1710              795  \n",
       "12_19_old(1) 20                 841              344  \n",
       "20_39_old(2) 40                8376             3193  \n",
       "40_59_old(2) 40                7861             2952  \n",
       "60_69_old(1) 20                2164              835  \n",
       "70_100_old(3) 60               1570              645  "
      ]
     },
     "execution_count": 118,
     "metadata": {},
     "output_type": "execute_result"
    }
   ],
   "source": [
    "data = data.rename({\"0-11 years old (1)\" : \"0_11_old(1) 20\",\n",
    "             \"12-19 years old (1)\" : \"12_19_old(1) 20\",\n",
    "             \"20-39 years old (2)\" : \"20_39_old(2) 40\",\n",
    "             \"40-59 years old (2)\" : \"40_59_old(2) 40\",\n",
    "             \"60-69 years old (1)\" : \"60_69_old(1) 20\",\n",
    "             \"70-100 years old (3)\" : \"70_100_old(3) 60\"\n",
    "            }, axis = \"index\")\n",
    "data"
   ]
  },
  {
   "cell_type": "code",
   "execution_count": 119,
   "id": "7c51f646",
   "metadata": {},
   "outputs": [],
   "source": [
    "def get_points_along_line(start, end, count):\n",
    "    x_points = np.linspace(start[0], end[0], count)\n",
    "    y_points = np.linspace(start[1], end[1], count)\n",
    "    points = []\n",
    "    for idx, (x, y) in enumerate(zip(x_points, y_points)):\n",
    "        points.append((x,y))\n",
    "    points.pop();\n",
    "    return points"
   ]
  },
  {
   "cell_type": "code",
   "execution_count": 120,
   "id": "a8e39364",
   "metadata": {},
   "outputs": [],
   "source": [
    "def get_points(bottomleft, width, height, count = 10): # top-left start, clockwise\n",
    "    points = []\n",
    "    \n",
    "    bottomright = [bottomleft[0] + width, bottomleft[1]]\n",
    "    topright = [bottomright[0], bottomright[1] + height]\n",
    "    topleft = [topright[0] - width, topright[1]]\n",
    "    \n",
    "    points.extend(get_points_along_line(bottomleft, bottomright, count))\n",
    "    points.extend(get_points_along_line(bottomright, topright, count))    \n",
    "    points.extend(get_points_along_line(topright, topleft, count))    \n",
    "    points.extend(get_points_along_line(topleft, bottomleft, count))\n",
    "    points.append(bottomleft)\n",
    "    \n",
    "    return points"
   ]
  },
  {
   "cell_type": "code",
   "execution_count": 124,
   "id": "77e19a5b",
   "metadata": {},
   "outputs": [],
   "source": [
    "widths = []\n",
    "heights = []\n",
    "for cidx, col in enumerate(data.columns):\n",
    "    widths.append(int(col.split()[1]))\n",
    "    \n",
    "for ridx, row in enumerate(data.index):\n",
    "    heights.append(int(row.split()[1]))\n"
   ]
  },
  {
   "cell_type": "code",
   "execution_count": 128,
   "id": "653832ab",
   "metadata": {},
   "outputs": [
    {
     "data": {
      "text/plain": [
       "array([51.72413793, 72.4137931 , 72.4137931 , 72.4137931 , 31.03448276])"
      ]
     },
     "execution_count": 128,
     "metadata": {},
     "output_type": "execute_result"
    }
   ],
   "source": [
    "widths = (np.array(widths)/sum(widths))*300\n",
    "widths"
   ]
  },
  {
   "cell_type": "code",
   "execution_count": 129,
   "id": "c8693c00",
   "metadata": {},
   "outputs": [
    {
     "data": {
      "text/plain": [
       "array([30., 30., 60., 60., 30., 90.])"
      ]
     },
     "execution_count": 129,
     "metadata": {},
     "output_type": "execute_result"
    }
   ],
   "source": [
    "heights = (np.array(heights)/sum(heights))*300\n",
    "heights"
   ]
  },
  {
   "cell_type": "code",
   "execution_count": 130,
   "id": "6e48b591",
   "metadata": {},
   "outputs": [],
   "source": [
    "n_points = 30\n",
    "start = [0,0]\n",
    "features = []\n",
    "for cidx, col in enumerate(data.columns):\n",
    "    width = widths[cidx]\n",
    "    start[1] = 0 #make row position 0    \n",
    "    for ridx, row in enumerate(data.index):\n",
    "        height = heights[ridx]\n",
    "        name = col.split()[0] + \"_\" + row.split()[0]\n",
    "        polygon = Polygon([get_points(start, width, height, n_points)])\n",
    "        feature = Feature(geometry = polygon, properties = {\"name\" : name})\n",
    "        features.append(feature)\n",
    "        start[1] += height\n",
    "    start[0] += width #increase col position"
   ]
  },
  {
   "cell_type": "code",
   "execution_count": 131,
   "id": "8e910d3b",
   "metadata": {},
   "outputs": [
    {
     "name": "stdout",
     "output_type": "stream",
     "text": [
      "Writing 'geojson.dumps(gj)' (str) to file 'cases.geojson'.\n"
     ]
    }
   ],
   "source": [
    "gj = FeatureCollection(features)\n",
    "%store geojson.dumps(gj) >cases.geojson"
   ]
  },
  {
   "cell_type": "code",
   "execution_count": 132,
   "id": "44ba3fce",
   "metadata": {},
   "outputs": [],
   "source": [
    "with open('cases.csv', 'w', encoding='UTF8') as csvfile:\n",
    "    writer = csv.writer(csvfile)\n",
    "    writer.writerow(['name','cases'])\n",
    "    for cidx, col in enumerate(data.columns):\n",
    "        for ridx, row in enumerate(data.index):\n",
    "            name = col.split()[0] + \"_\" + row.split()[0]\n",
    "            rw = [name, data.iloc[ridx, cidx]]\n",
    "            writer.writerow(rw)"
   ]
  },
  {
   "cell_type": "code",
   "execution_count": null,
   "id": "c520dc88",
   "metadata": {},
   "outputs": [],
   "source": []
  }
 ],
 "metadata": {
  "kernelspec": {
   "display_name": "Python 3 (ipykernel)",
   "language": "python",
   "name": "python3"
  },
  "language_info": {
   "codemirror_mode": {
    "name": "ipython",
    "version": 3
   },
   "file_extension": ".py",
   "mimetype": "text/x-python",
   "name": "python",
   "nbconvert_exporter": "python",
   "pygments_lexer": "ipython3",
   "version": "3.9.14"
  }
 },
 "nbformat": 4,
 "nbformat_minor": 5
}
