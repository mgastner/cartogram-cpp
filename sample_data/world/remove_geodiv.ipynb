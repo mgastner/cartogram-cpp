{
 "cells": [
  {
   "cell_type": "code",
   "execution_count": 4,
   "id": "5088b365",
   "metadata": {},
   "outputs": [],
   "source": [
    "import json\n",
    "\n",
    "# Load the GeoJSON file\n",
    "with open('geo_ne50_antimeridian_minus169_brewer.geojson', 'r') as f:\n",
    "    geojson = json.load(f)\n",
    "\n",
    "# Initialize an empty list to hold the features to keep\n",
    "features_to_keep = []\n",
    "\n",
    "# Loop over each feature\n",
    "for feature in geojson['features']:\n",
    "    # If the feature's 'name' property is not 'Antarctica', add it to the features to keep\n",
    "    if feature['properties'].get('name') != 'Antarctica':\n",
    "        features_to_keep.append(feature)\n",
    "\n",
    "# Replace the features in the GeoJSON with the features to keep\n",
    "geojson['features'] = features_to_keep\n",
    "\n",
    "# Save the modified GeoJSON file\n",
    "with open('geo_wo_antarctica_ne50_antimeridian_minus169_brewer.geojson', 'w') as f:\n",
    "    json.dump(geojson, f)\n"
   ]
  },
  {
   "cell_type": "code",
   "execution_count": 3,
   "id": "a61ae5d5",
   "metadata": {},
   "outputs": [],
   "source": [
    "import csv\n",
    "\n",
    "# Open the CSV file and create a DictReader\n",
    "with open('csv_ne50_antimeridian_minus169_brewer_pop.csv', 'r') as f:\n",
    "    reader = csv.DictReader(f)\n",
    "    headers = reader.fieldnames\n",
    "    rows = [row for row in reader if row['name'] != 'Antarctica']\n",
    "\n",
    "# Write the modified data to a new CSV file\n",
    "with open('csv_wo_antarctica_ne50_antimeridian_minus169_brewer_pop.csv', 'w', newline='') as f:\n",
    "    writer = csv.DictWriter(f, fieldnames=headers)\n",
    "    writer.writeheader()\n",
    "    writer.writerows(rows)"
   ]
  }
 ],
 "metadata": {
  "kernelspec": {
   "display_name": "Python 3 (ipykernel)",
   "language": "python",
   "name": "python3"
  },
  "language_info": {
   "codemirror_mode": {
    "name": "ipython",
    "version": 3
   },
   "file_extension": ".py",
   "mimetype": "text/x-python",
   "name": "python",
   "nbconvert_exporter": "python",
   "pygments_lexer": "ipython3",
   "version": "3.11.1"
  }
 },
 "nbformat": 4,
 "nbformat_minor": 5
}
